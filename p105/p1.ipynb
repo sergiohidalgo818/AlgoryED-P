{
 "cells": [
  {
   "cell_type": "code",
   "execution_count": 3,
   "metadata": {},
   "outputs": [
    {
     "name": "stdout",
     "output_type": "stream",
     "text": [
      "\n",
      "Timings arrays []\n"
     ]
    },
    {
     "ename": "RecursionError",
     "evalue": "maximum recursion depth exceeded while calling a Python object",
     "output_type": "error",
     "traceback": [
      "\u001b[0;31m---------------------------------------------------------------------------\u001b[0m",
      "\u001b[0;31mRecursionError\u001b[0m                            Traceback (most recent call last)",
      "Cell \u001b[0;32mIn[3], line 30\u001b[0m\n\u001b[1;32m     28\u001b[0m t \u001b[38;5;241m=\u001b[39m \u001b[38;5;28mlist\u001b[39m(\u001b[38;5;28mrange\u001b[39m(\u001b[38;5;241m2\u001b[39m\u001b[38;5;241m*\u001b[39m\u001b[38;5;241m*\u001b[39mi \u001b[38;5;241m*\u001b[39m size))\n\u001b[1;32m     29\u001b[0m key \u001b[38;5;241m=\u001b[39m size\n\u001b[0;32m---> 30\u001b[0m timings \u001b[38;5;241m=\u001b[39m \u001b[43mget_ipython\u001b[49m\u001b[43m(\u001b[49m\u001b[43m)\u001b[49m\u001b[38;5;241;43m.\u001b[39;49m\u001b[43mrun_line_magic\u001b[49m\u001b[43m(\u001b[49m\u001b[38;5;124;43m'\u001b[39;49m\u001b[38;5;124;43mtimeit\u001b[39;49m\u001b[38;5;124;43m'\u001b[39;49m\u001b[43m,\u001b[49m\u001b[43m \u001b[49m\u001b[38;5;124;43m'\u001b[39;49m\u001b[38;5;124;43m-n 100 -r 10 -o -q rec_bb(t, 0, len(t) - 1, key)\u001b[39;49m\u001b[38;5;124;43m'\u001b[39;49m\u001b[43m)\u001b[49m\n\u001b[1;32m     31\u001b[0m l_timingsbb\u001b[38;5;241m.\u001b[39mappend([\u001b[38;5;28mlen\u001b[39m(t), timings\u001b[38;5;241m.\u001b[39mbest])\n\u001b[1;32m     32\u001b[0m a_timings_bb \u001b[38;5;241m=\u001b[39m np\u001b[38;5;241m.\u001b[39marray(l_timingsbb)\n",
      "File \u001b[0;32m/usr/local/lib/python3.10/dist-packages/IPython/core/interactiveshell.py:2432\u001b[0m, in \u001b[0;36mInteractiveShell.run_line_magic\u001b[0;34m(self, magic_name, line, _stack_depth)\u001b[0m\n\u001b[1;32m   2430\u001b[0m     kwargs[\u001b[38;5;124m'\u001b[39m\u001b[38;5;124mlocal_ns\u001b[39m\u001b[38;5;124m'\u001b[39m] \u001b[38;5;241m=\u001b[39m \u001b[38;5;28mself\u001b[39m\u001b[38;5;241m.\u001b[39mget_local_scope(stack_depth)\n\u001b[1;32m   2431\u001b[0m \u001b[38;5;28;01mwith\u001b[39;00m \u001b[38;5;28mself\u001b[39m\u001b[38;5;241m.\u001b[39mbuiltin_trap:\n\u001b[0;32m-> 2432\u001b[0m     result \u001b[38;5;241m=\u001b[39m \u001b[43mfn\u001b[49m\u001b[43m(\u001b[49m\u001b[38;5;241;43m*\u001b[39;49m\u001b[43margs\u001b[49m\u001b[43m,\u001b[49m\u001b[43m \u001b[49m\u001b[38;5;241;43m*\u001b[39;49m\u001b[38;5;241;43m*\u001b[39;49m\u001b[43mkwargs\u001b[49m\u001b[43m)\u001b[49m\n\u001b[1;32m   2434\u001b[0m \u001b[38;5;66;03m# The code below prevents the output from being displayed\u001b[39;00m\n\u001b[1;32m   2435\u001b[0m \u001b[38;5;66;03m# when using magics with decorator @output_can_be_silenced\u001b[39;00m\n\u001b[1;32m   2436\u001b[0m \u001b[38;5;66;03m# when the last Python token in the expression is a ';'.\u001b[39;00m\n\u001b[1;32m   2437\u001b[0m \u001b[38;5;28;01mif\u001b[39;00m \u001b[38;5;28mgetattr\u001b[39m(fn, magic\u001b[38;5;241m.\u001b[39mMAGIC_OUTPUT_CAN_BE_SILENCED, \u001b[38;5;28;01mFalse\u001b[39;00m):\n",
      "File \u001b[0;32m/usr/local/lib/python3.10/dist-packages/IPython/core/magics/execution.py:1189\u001b[0m, in \u001b[0;36mExecutionMagics.timeit\u001b[0;34m(self, line, cell, local_ns)\u001b[0m\n\u001b[1;32m   1186\u001b[0m         \u001b[38;5;28;01mif\u001b[39;00m time_number \u001b[38;5;241m>\u001b[39m\u001b[38;5;241m=\u001b[39m \u001b[38;5;241m0.2\u001b[39m:\n\u001b[1;32m   1187\u001b[0m             \u001b[38;5;28;01mbreak\u001b[39;00m\n\u001b[0;32m-> 1189\u001b[0m all_runs \u001b[38;5;241m=\u001b[39m \u001b[43mtimer\u001b[49m\u001b[38;5;241;43m.\u001b[39;49m\u001b[43mrepeat\u001b[49m\u001b[43m(\u001b[49m\u001b[43mrepeat\u001b[49m\u001b[43m,\u001b[49m\u001b[43m \u001b[49m\u001b[43mnumber\u001b[49m\u001b[43m)\u001b[49m\n\u001b[1;32m   1190\u001b[0m best \u001b[38;5;241m=\u001b[39m \u001b[38;5;28mmin\u001b[39m(all_runs) \u001b[38;5;241m/\u001b[39m number\n\u001b[1;32m   1191\u001b[0m worst \u001b[38;5;241m=\u001b[39m \u001b[38;5;28mmax\u001b[39m(all_runs) \u001b[38;5;241m/\u001b[39m number\n",
      "File \u001b[0;32m/usr/lib/python3.10/timeit.py:206\u001b[0m, in \u001b[0;36mTimer.repeat\u001b[0;34m(self, repeat, number)\u001b[0m\n\u001b[1;32m    204\u001b[0m r \u001b[38;5;241m=\u001b[39m []\n\u001b[1;32m    205\u001b[0m \u001b[38;5;28;01mfor\u001b[39;00m i \u001b[38;5;129;01min\u001b[39;00m \u001b[38;5;28mrange\u001b[39m(repeat):\n\u001b[0;32m--> 206\u001b[0m     t \u001b[38;5;241m=\u001b[39m \u001b[38;5;28;43mself\u001b[39;49m\u001b[38;5;241;43m.\u001b[39;49m\u001b[43mtimeit\u001b[49m\u001b[43m(\u001b[49m\u001b[43mnumber\u001b[49m\u001b[43m)\u001b[49m\n\u001b[1;32m    207\u001b[0m     r\u001b[38;5;241m.\u001b[39mappend(t)\n\u001b[1;32m    208\u001b[0m \u001b[38;5;28;01mreturn\u001b[39;00m r\n",
      "File \u001b[0;32m/usr/local/lib/python3.10/dist-packages/IPython/core/magics/execution.py:173\u001b[0m, in \u001b[0;36mTimer.timeit\u001b[0;34m(self, number)\u001b[0m\n\u001b[1;32m    171\u001b[0m gc\u001b[38;5;241m.\u001b[39mdisable()\n\u001b[1;32m    172\u001b[0m \u001b[38;5;28;01mtry\u001b[39;00m:\n\u001b[0;32m--> 173\u001b[0m     timing \u001b[38;5;241m=\u001b[39m \u001b[38;5;28;43mself\u001b[39;49m\u001b[38;5;241;43m.\u001b[39;49m\u001b[43minner\u001b[49m\u001b[43m(\u001b[49m\u001b[43mit\u001b[49m\u001b[43m,\u001b[49m\u001b[43m \u001b[49m\u001b[38;5;28;43mself\u001b[39;49m\u001b[38;5;241;43m.\u001b[39;49m\u001b[43mtimer\u001b[49m\u001b[43m)\u001b[49m\n\u001b[1;32m    174\u001b[0m \u001b[38;5;28;01mfinally\u001b[39;00m:\n\u001b[1;32m    175\u001b[0m     \u001b[38;5;28;01mif\u001b[39;00m gcold:\n",
      "File \u001b[0;32m<magic-timeit>:1\u001b[0m, in \u001b[0;36minner\u001b[0;34m(_it, _timer)\u001b[0m\n",
      "File \u001b[0;32m~/Escritorio/uni/4o/1er_cuatri/AlgoryED-P/p105/p105.py:52\u001b[0m, in \u001b[0;36mrec_bb\u001b[0;34m(t, f, l, key)\u001b[0m\n\u001b[1;32m     48\u001b[0m \u001b[38;5;66;03m# si el elemento del medio es menor que el numero a buscar\u001b[39;00m\n\u001b[1;32m     49\u001b[0m \u001b[38;5;28;01melif\u001b[39;00m t[m] \u001b[38;5;241m<\u001b[39m key:\n\u001b[1;32m     50\u001b[0m     \u001b[38;5;66;03m# se cambia el primero por el mediano mas 1\u001b[39;00m\n\u001b[1;32m     51\u001b[0m     \u001b[38;5;66;03m# y se llama de nuevo a la funcion\u001b[39;00m\n\u001b[0;32m---> 52\u001b[0m     \u001b[43mrec_bb\u001b[49m\u001b[43m(\u001b[49m\u001b[43mt\u001b[49m\u001b[43m,\u001b[49m\u001b[43m \u001b[49m\u001b[43mm\u001b[49m\u001b[38;5;241;43m+\u001b[39;49m\u001b[38;5;241;43m1\u001b[39;49m\u001b[43m,\u001b[49m\u001b[43m \u001b[49m\u001b[43ml\u001b[49m\u001b[43m,\u001b[49m\u001b[43m \u001b[49m\u001b[43mkey\u001b[49m\u001b[43m)\u001b[49m\n\u001b[1;32m     53\u001b[0m \u001b[38;5;66;03m# si es igual se devuelve m \u001b[39;00m\n\u001b[1;32m     54\u001b[0m \u001b[38;5;28;01melif\u001b[39;00m t[m] \u001b[38;5;241m==\u001b[39m key:\n",
      "File \u001b[0;32m~/Escritorio/uni/4o/1er_cuatri/AlgoryED-P/p105/p105.py:52\u001b[0m, in \u001b[0;36mrec_bb\u001b[0;34m(t, f, l, key)\u001b[0m\n\u001b[1;32m     48\u001b[0m \u001b[38;5;66;03m# si el elemento del medio es menor que el numero a buscar\u001b[39;00m\n\u001b[1;32m     49\u001b[0m \u001b[38;5;28;01melif\u001b[39;00m t[m] \u001b[38;5;241m<\u001b[39m key:\n\u001b[1;32m     50\u001b[0m     \u001b[38;5;66;03m# se cambia el primero por el mediano mas 1\u001b[39;00m\n\u001b[1;32m     51\u001b[0m     \u001b[38;5;66;03m# y se llama de nuevo a la funcion\u001b[39;00m\n\u001b[0;32m---> 52\u001b[0m     \u001b[43mrec_bb\u001b[49m\u001b[43m(\u001b[49m\u001b[43mt\u001b[49m\u001b[43m,\u001b[49m\u001b[43m \u001b[49m\u001b[43mm\u001b[49m\u001b[38;5;241;43m+\u001b[39;49m\u001b[38;5;241;43m1\u001b[39;49m\u001b[43m,\u001b[49m\u001b[43m \u001b[49m\u001b[43ml\u001b[49m\u001b[43m,\u001b[49m\u001b[43m \u001b[49m\u001b[43mkey\u001b[49m\u001b[43m)\u001b[49m\n\u001b[1;32m     53\u001b[0m \u001b[38;5;66;03m# si es igual se devuelve m \u001b[39;00m\n\u001b[1;32m     54\u001b[0m \u001b[38;5;28;01melif\u001b[39;00m t[m] \u001b[38;5;241m==\u001b[39m key:\n",
      "    \u001b[0;31m[... skipping similar frames: rec_bb at line 52 (2964 times)]\u001b[0m\n",
      "File \u001b[0;32m~/Escritorio/uni/4o/1er_cuatri/AlgoryED-P/p105/p105.py:52\u001b[0m, in \u001b[0;36mrec_bb\u001b[0;34m(t, f, l, key)\u001b[0m\n\u001b[1;32m     48\u001b[0m \u001b[38;5;66;03m# si el elemento del medio es menor que el numero a buscar\u001b[39;00m\n\u001b[1;32m     49\u001b[0m \u001b[38;5;28;01melif\u001b[39;00m t[m] \u001b[38;5;241m<\u001b[39m key:\n\u001b[1;32m     50\u001b[0m     \u001b[38;5;66;03m# se cambia el primero por el mediano mas 1\u001b[39;00m\n\u001b[1;32m     51\u001b[0m     \u001b[38;5;66;03m# y se llama de nuevo a la funcion\u001b[39;00m\n\u001b[0;32m---> 52\u001b[0m     \u001b[43mrec_bb\u001b[49m\u001b[43m(\u001b[49m\u001b[43mt\u001b[49m\u001b[43m,\u001b[49m\u001b[43m \u001b[49m\u001b[43mm\u001b[49m\u001b[38;5;241;43m+\u001b[39;49m\u001b[38;5;241;43m1\u001b[39;49m\u001b[43m,\u001b[49m\u001b[43m \u001b[49m\u001b[43ml\u001b[49m\u001b[43m,\u001b[49m\u001b[43m \u001b[49m\u001b[43mkey\u001b[49m\u001b[43m)\u001b[49m\n\u001b[1;32m     53\u001b[0m \u001b[38;5;66;03m# si es igual se devuelve m \u001b[39;00m\n\u001b[1;32m     54\u001b[0m \u001b[38;5;28;01melif\u001b[39;00m t[m] \u001b[38;5;241m==\u001b[39m key:\n",
      "File \u001b[0;32m~/Escritorio/uni/4o/1er_cuatri/AlgoryED-P/p105/p105.py:42\u001b[0m, in \u001b[0;36mrec_bb\u001b[0;34m(t, f, l, key)\u001b[0m\n\u001b[1;32m     39\u001b[0m \u001b[38;5;28;01mdef\u001b[39;00m \u001b[38;5;21mrec_bb\u001b[39m(t: List, f: \u001b[38;5;28mint\u001b[39m, l: \u001b[38;5;28mint\u001b[39m, key: \u001b[38;5;28mint\u001b[39m)\u001b[38;5;241m-\u001b[39m\u001b[38;5;241m>\u001b[39m \u001b[38;5;28mint\u001b[39m:\n\u001b[1;32m     40\u001b[0m     \u001b[38;5;66;03m# m es la parte media de la lista (primero + ultimo)/2\u001b[39;00m\n\u001b[0;32m---> 42\u001b[0m     m \u001b[38;5;241m=\u001b[39m \u001b[38;5;28;43mint\u001b[39;49m\u001b[43m(\u001b[49m\u001b[43m(\u001b[49m\u001b[43mf\u001b[49m\u001b[38;5;241;43m+\u001b[39;49m\u001b[43ml\u001b[49m\u001b[43m)\u001b[49m\u001b[38;5;241;43m/\u001b[39;49m\u001b[38;5;241;43m2\u001b[39;49m\u001b[43m)\u001b[49m\n\u001b[1;32m     43\u001b[0m     \u001b[38;5;66;03m# si el elemento del medio es mayor que el numero a buscar\u001b[39;00m\n\u001b[1;32m     44\u001b[0m     \u001b[38;5;28;01mif\u001b[39;00m t[m] \u001b[38;5;241m>\u001b[39m key:\n\u001b[1;32m     45\u001b[0m         \u001b[38;5;66;03m# se cambia el ultimo por el mediano menos 1\u001b[39;00m\n\u001b[1;32m     46\u001b[0m         \u001b[38;5;66;03m# y se llama de nuevo a la funcion\u001b[39;00m\n",
      "\u001b[0;31mRecursionError\u001b[0m: maximum recursion depth exceeded while calling a Python object"
     ]
    }
   ],
   "source": [
    "from p105 import matrix_multiplication, bb, rec_bb\n",
    "from p105 import rec_bb, matrix_multiplication_dot\n",
    "import numpy as np\n",
    "from scipy.optimize import curve_fit\n",
    "import json\n",
    "\n",
    "#1A\n",
    "# lista de tiempos\n",
    "l_timings = []\n",
    "for i in range(10, 21):\n",
    "    # dimension de la matriz\n",
    "    dim = 10+i**2\n",
    "    # crea una matriz de dimension dimXdim con valores \n",
    "    # aleatorios entre 0 y 1 \n",
    "    m = np.random.uniform(low=0, high=1, size=(dim, dim)) \n",
    "    # guarda con el comando \"magico\" %timeit los valores de \n",
    "    # tiempo que tarda en realizar la funcion \n",
    "    # con 5 repeticiones de 10 iteraciones cada una\n",
    "    timings = %timeit -o -n 10 -r 5 -q matrix_multiplication(m, m)\n",
    "    # se guarda en la lista\n",
    "    l_timings.append([dim, timings.best])\n",
    "\n",
    "print(\"\\nTimings arrays \" +str(l_timings))\n",
    "\n",
    "#1B\n",
    "l_timingsbb = []\n",
    "for i,size in enumerate(range(5, 15)):\n",
    "    t = list(range(2**i * size))\n",
    "    key = 0\n",
    "    timings = %timeit -n 100 -r 10 -o -q rec_bb(t, 0, len(t) - 1, key)\n",
    "    l_timingsbb.append([len(t), timings.best])\n",
    "    a_timings_bb = np.array(l_timingsbb)\n",
    "\n",
    "print(\"\\nTimings bbrec \" + str(a_timings_bb))\n",
    "\n",
    "l_timingsbbi = []\n",
    "for i,size in enumerate(range(5, 15)):\n",
    "    t = list(range(2**i * size))\n",
    "    key = 0\n",
    "    timings = %timeit -n 100 -r 10 -o -q bb(t, 0, len(t) - 1, key)\n",
    "    l_timingsbbi.append([len(t), timings.best])\n",
    "    a_timingsbbi = np.array(l_timingsbbi)\n",
    "\n",
    "print(\"\\nTimings bbi \" + str(a_timingsbbi))\n",
    "\n",
    "#1C\n",
    "\n",
    "# lista de tiempos\n",
    "l_timings_dot = []\n",
    "for i in range(10, 21):\n",
    "    # dimension de la matriz\n",
    "    dim = 10+i**2\n",
    "    # crea una matriz de dimension dimXdim con valores \n",
    "    # aleatorios entre 0 y 1 \n",
    "    m = np.random.uniform(low=0, high=1, size=(dim, dim)) \n",
    "    # guarda con el comando \"magico\" %timeit los valores de \n",
    "    # tiempo que tarda en realizar la funcion \n",
    "    # con 5 repeticiones de 10 iteraciones cada una\n",
    "    timings = %timeit -o -n 10 -r 5 -q matrix_multiplication_dot(m, m)\n",
    "    # se guarda en la lista\n",
    "    l_timings_dot.append([dim, timings.best])\n",
    "    print(\"\\nTimings arrays dot \" +str(l_timings_dot))\n",
    "\n",
    "file_name = \"data/exe_data.json\"\n",
    "\n",
    "with open(file_name, 'w') as outfile:  \n",
    "        json.dump({\"array_mult\":l_timings, \n",
    "                   \"bb_rec\":l_timingsbb,\n",
    "                   \"bb_iter\":l_timingsbbi,\n",
    "                   \"array_dot\":l_timings_dot}, outfile)\n"
   ]
  },
  {
   "cell_type": "code",
   "execution_count": null,
   "metadata": {},
   "outputs": [],
   "source": []
  }
 ],
 "metadata": {
  "kernelspec": {
   "display_name": "Python 3 (ipykernel)",
   "language": "python",
   "name": "python3"
  },
  "language_info": {
   "codemirror_mode": {
    "name": "ipython",
    "version": 3
   },
   "file_extension": ".py",
   "mimetype": "text/x-python",
   "name": "python",
   "nbconvert_exporter": "python",
   "pygments_lexer": "ipython3",
   "version": "3.10.12"
  }
 },
 "nbformat": 4,
 "nbformat_minor": 4
}
